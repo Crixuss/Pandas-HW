{
 "cells": [
  {
   "cell_type": "code",
   "execution_count": 1,
   "metadata": {},
   "outputs": [],
   "source": [
    " # Dependencies and Setup\n",
    "import pandas as pd\n",
    "import numpy as np"
   ]
  },
  {
   "cell_type": "code",
   "execution_count": 2,
   "metadata": {},
   "outputs": [],
   "source": [
    "# File to Load (Remember to Change These)\n",
    "file = \"pymoli.csv\"\n",
    "\n",
    "purchase_data = pd.read_csv(file)\n",
    "# purchase_data.head()"
   ]
  },
  {
   "cell_type": "code",
   "execution_count": 3,
   "metadata": {},
   "outputs": [],
   "source": [
    "# number of players\n",
    "unique_players = purchase_data[\"SN\"].unique()\n",
    "total_players = len(unique_players)\n",
    "total_players\n",
    "player_count_df = pd.DataFrame(\n",
    "    {\"Total Players\": [total_players]\n",
    "    }\n",
    ")\n"
   ]
  },
  {
   "cell_type": "markdown",
   "metadata": {},
   "source": [
    "# Player Count"
   ]
  },
  {
   "cell_type": "code",
   "execution_count": 4,
   "metadata": {},
   "outputs": [
    {
     "data": {
      "text/html": [
       "<div>\n",
       "<style scoped>\n",
       "    .dataframe tbody tr th:only-of-type {\n",
       "        vertical-align: middle;\n",
       "    }\n",
       "\n",
       "    .dataframe tbody tr th {\n",
       "        vertical-align: top;\n",
       "    }\n",
       "\n",
       "    .dataframe thead th {\n",
       "        text-align: right;\n",
       "    }\n",
       "</style>\n",
       "<table border=\"1\" class=\"dataframe\">\n",
       "  <thead>\n",
       "    <tr style=\"text-align: right;\">\n",
       "      <th></th>\n",
       "      <th>Total Players</th>\n",
       "    </tr>\n",
       "  </thead>\n",
       "  <tbody>\n",
       "    <tr>\n",
       "      <th>0</th>\n",
       "      <td>576</td>\n",
       "    </tr>\n",
       "  </tbody>\n",
       "</table>\n",
       "</div>"
      ],
      "text/plain": [
       "   Total Players\n",
       "0            576"
      ]
     },
     "execution_count": 4,
     "metadata": {},
     "output_type": "execute_result"
    }
   ],
   "source": [
    "player_count_df"
   ]
  },
  {
   "cell_type": "code",
   "execution_count": 5,
   "metadata": {},
   "outputs": [],
   "source": [
    "unique_items = purchase_data[\"Item ID\"].unique()\n",
    "total_items = len(unique_items)\n",
    "\n",
    "avg_purchase_price = purchase_data[\"Price\"].mean()\n",
    "\n",
    "purchases = purchase_data[\"Purchase ID\"].count()\n",
    "\n",
    "total_revenue = purchase_data[\"Price\"].sum()\n",
    "\n",
    "purchase_analysis_df = pd.DataFrame(\n",
    "    {\"Number of Unique Items\": [total_items],\n",
    "     \"Average Price\": [avg_purchase_price],\n",
    "     \"Number of Purchases\": [purchases],\n",
    "     \"Total Revenue\": [total_revenue]   \n",
    "    })\n",
    "purchase_analysis_df['Average Price']= purchase_analysis_df['Average Price'].map(\"${:.2f}\".format)\n",
    "purchase_analysis_df['Total Revenue']= purchase_analysis_df['Total Revenue'].map(\"${:,.2f}\".format)\n"
   ]
  },
  {
   "cell_type": "markdown",
   "metadata": {},
   "source": [
    "# Purchasing Analysis (Total)"
   ]
  },
  {
   "cell_type": "code",
   "execution_count": 6,
   "metadata": {},
   "outputs": [
    {
     "data": {
      "text/html": [
       "<div>\n",
       "<style scoped>\n",
       "    .dataframe tbody tr th:only-of-type {\n",
       "        vertical-align: middle;\n",
       "    }\n",
       "\n",
       "    .dataframe tbody tr th {\n",
       "        vertical-align: top;\n",
       "    }\n",
       "\n",
       "    .dataframe thead th {\n",
       "        text-align: right;\n",
       "    }\n",
       "</style>\n",
       "<table border=\"1\" class=\"dataframe\">\n",
       "  <thead>\n",
       "    <tr style=\"text-align: right;\">\n",
       "      <th></th>\n",
       "      <th>Number of Unique Items</th>\n",
       "      <th>Average Price</th>\n",
       "      <th>Number of Purchases</th>\n",
       "      <th>Total Revenue</th>\n",
       "    </tr>\n",
       "  </thead>\n",
       "  <tbody>\n",
       "    <tr>\n",
       "      <th>0</th>\n",
       "      <td>183</td>\n",
       "      <td>$3.05</td>\n",
       "      <td>780</td>\n",
       "      <td>$2,379.77</td>\n",
       "    </tr>\n",
       "  </tbody>\n",
       "</table>\n",
       "</div>"
      ],
      "text/plain": [
       "   Number of Unique Items Average Price  Number of Purchases Total Revenue\n",
       "0                     183         $3.05                  780     $2,379.77"
      ]
     },
     "execution_count": 6,
     "metadata": {},
     "output_type": "execute_result"
    }
   ],
   "source": [
    "purchase_analysis_df"
   ]
  },
  {
   "cell_type": "code",
   "execution_count": 7,
   "metadata": {},
   "outputs": [],
   "source": [
    "gen_df = purchase_data.drop_duplicates(subset=['SN'], keep = 'first')\n",
    "gen_df.groupby(['Gender'])\n",
    "num = len(purchase_data['SN'].unique())\n",
    "num = pd.to_numeric(num)\n"
   ]
  },
  {
   "cell_type": "code",
   "execution_count": 8,
   "metadata": {},
   "outputs": [],
   "source": [
    "males = gen_df.loc[gen_df['Gender']== 'Male',:]\n",
    "females = gen_df.loc[gen_df['Gender']=='Female',:]\n",
    "other = gen_df.loc[gen_df['Gender']== 'Other / Non-Disclosed',:]\n",
    "male_count = len(males['Gender'])\n",
    "female_count = len(females['Gender'])\n",
    "other_count = len(other['Gender'])\n",
    "male_per = (male_count/num)*100\n",
    "\n",
    "female_per = (female_count/num)*100\n",
    "other_per = (other_count/num)*100\n"
   ]
  },
  {
   "cell_type": "code",
   "execution_count": 9,
   "metadata": {},
   "outputs": [],
   "source": [
    "gender_dem_df = pd.DataFrame(\n",
    "    {\"Total Count\": [male_count, female_count, other_count],\n",
    "     \"Percentage of Players\": [male_per, female_per, other_per],  \n",
    "    })\n",
    "\n",
    "gender_dem_df['']=['Male', 'Female', 'Other / Non-Disclosed']\n",
    "gender_dem_df = gender_dem_df[['', 'Total Count', 'Percentage of Players']]\n",
    "gender_dem_df['Percentage of Players']=gender_dem_df['Percentage of Players'].map(\"{:.2f}\".format)"
   ]
  },
  {
   "cell_type": "markdown",
   "metadata": {},
   "source": [
    "# Gender Demographics"
   ]
  },
  {
   "cell_type": "code",
   "execution_count": 10,
   "metadata": {},
   "outputs": [
    {
     "data": {
      "text/html": [
       "<div>\n",
       "<style scoped>\n",
       "    .dataframe tbody tr th:only-of-type {\n",
       "        vertical-align: middle;\n",
       "    }\n",
       "\n",
       "    .dataframe tbody tr th {\n",
       "        vertical-align: top;\n",
       "    }\n",
       "\n",
       "    .dataframe thead th {\n",
       "        text-align: right;\n",
       "    }\n",
       "</style>\n",
       "<table border=\"1\" class=\"dataframe\">\n",
       "  <thead>\n",
       "    <tr style=\"text-align: right;\">\n",
       "      <th></th>\n",
       "      <th></th>\n",
       "      <th>Total Count</th>\n",
       "      <th>Percentage of Players</th>\n",
       "    </tr>\n",
       "  </thead>\n",
       "  <tbody>\n",
       "    <tr>\n",
       "      <th>0</th>\n",
       "      <td>Male</td>\n",
       "      <td>484</td>\n",
       "      <td>84.03</td>\n",
       "    </tr>\n",
       "    <tr>\n",
       "      <th>1</th>\n",
       "      <td>Female</td>\n",
       "      <td>81</td>\n",
       "      <td>14.06</td>\n",
       "    </tr>\n",
       "    <tr>\n",
       "      <th>2</th>\n",
       "      <td>Other / Non-Disclosed</td>\n",
       "      <td>11</td>\n",
       "      <td>1.91</td>\n",
       "    </tr>\n",
       "  </tbody>\n",
       "</table>\n",
       "</div>"
      ],
      "text/plain": [
       "                          Total Count Percentage of Players\n",
       "0                   Male          484                 84.03\n",
       "1                 Female           81                 14.06\n",
       "2  Other / Non-Disclosed           11                  1.91"
      ]
     },
     "execution_count": 10,
     "metadata": {},
     "output_type": "execute_result"
    }
   ],
   "source": [
    "gender_dem_df"
   ]
  },
  {
   "cell_type": "code",
   "execution_count": 11,
   "metadata": {},
   "outputs": [],
   "source": [
    "tot_male= purchase_data.loc[purchase_data['Gender']=='Male',:]\n",
    "group_tot_male = tot_male.groupby(['SN']).sum().mean()\n",
    "tot_female= purchase_data.loc[purchase_data['Gender']=='Female',:]\n",
    "group_tot_female = tot_female.groupby(['SN']).sum().mean()\n",
    "tot_other= purchase_data.loc[purchase_data['Gender']== 'Other / Non-Disclosed', :]\n",
    "group_tot_other = tot_other.groupby(['SN']).sum().mean()"
   ]
  },
  {
   "cell_type": "code",
   "execution_count": 12,
   "metadata": {},
   "outputs": [],
   "source": [
    "tot_male_count = len(tot_male['Purchase ID'])\n",
    "tot_female_count = len(tot_female['Purchase ID'])\n",
    "tot_other_count = len(tot_other['Purchase ID'])\n",
    "male_avg_purch = tot_male['Price'].mean()\n",
    "female_avg_purch = tot_female['Price'].mean()\n",
    "other_avg_purch = tot_other['Price'].mean()\n",
    "male_purch_value = tot_male['Price'].sum()\n",
    "female_purch_value = tot_female['Price'].sum()\n",
    "other_purch_value = tot_other['Price'].sum()\n"
   ]
  },
  {
   "cell_type": "code",
   "execution_count": 13,
   "metadata": {},
   "outputs": [],
   "source": [
    "\n",
    "gen_purch_df = pd.DataFrame(\n",
    "    {'Gender': ['Female', 'Male', 'Other / Non-Disclosed'],\n",
    "     'Purchase Count': [tot_female_count, tot_male_count, tot_other_count],\n",
    "     'Average Purchase Price': [female_avg_purch, male_avg_purch, other_avg_purch],\n",
    "     'Total Purchase Value': [female_purch_value, male_purch_value, other_purch_value],\n",
    "     'Avg Total Purchase per Person':[group_tot_female['Price'].mean(),group_tot_male['Price'].mean(),group_tot_other['Price'].mean()]\n",
    "        \n",
    "    })\n",
    "gen_purch_df['Average Purchase Price']=gen_purch_df['Average Purchase Price'].map(\"${:.2f}\".format)\n",
    "gen_purch_df['Total Purchase Value']=gen_purch_df['Total Purchase Value'].map(\"${:,.2f}\".format)\n",
    "gen_purch_df['Avg Total Purchase per Person']=gen_purch_df['Avg Total Purchase per Person'].map(\"${:.2f}\".format)"
   ]
  },
  {
   "cell_type": "markdown",
   "metadata": {},
   "source": [
    "# Purchasing Analysis (Gender)"
   ]
  },
  {
   "cell_type": "code",
   "execution_count": 14,
   "metadata": {},
   "outputs": [
    {
     "data": {
      "text/html": [
       "<div>\n",
       "<style scoped>\n",
       "    .dataframe tbody tr th:only-of-type {\n",
       "        vertical-align: middle;\n",
       "    }\n",
       "\n",
       "    .dataframe tbody tr th {\n",
       "        vertical-align: top;\n",
       "    }\n",
       "\n",
       "    .dataframe thead th {\n",
       "        text-align: right;\n",
       "    }\n",
       "</style>\n",
       "<table border=\"1\" class=\"dataframe\">\n",
       "  <thead>\n",
       "    <tr style=\"text-align: right;\">\n",
       "      <th></th>\n",
       "      <th>Gender</th>\n",
       "      <th>Purchase Count</th>\n",
       "      <th>Average Purchase Price</th>\n",
       "      <th>Total Purchase Value</th>\n",
       "      <th>Avg Total Purchase per Person</th>\n",
       "    </tr>\n",
       "  </thead>\n",
       "  <tbody>\n",
       "    <tr>\n",
       "      <th>0</th>\n",
       "      <td>Female</td>\n",
       "      <td>113</td>\n",
       "      <td>$3.20</td>\n",
       "      <td>$361.94</td>\n",
       "      <td>$4.47</td>\n",
       "    </tr>\n",
       "    <tr>\n",
       "      <th>1</th>\n",
       "      <td>Male</td>\n",
       "      <td>652</td>\n",
       "      <td>$3.02</td>\n",
       "      <td>$1,967.64</td>\n",
       "      <td>$4.07</td>\n",
       "    </tr>\n",
       "    <tr>\n",
       "      <th>2</th>\n",
       "      <td>Other / Non-Disclosed</td>\n",
       "      <td>15</td>\n",
       "      <td>$3.35</td>\n",
       "      <td>$50.19</td>\n",
       "      <td>$4.56</td>\n",
       "    </tr>\n",
       "  </tbody>\n",
       "</table>\n",
       "</div>"
      ],
      "text/plain": [
       "                  Gender  Purchase Count Average Purchase Price  \\\n",
       "0                 Female             113                  $3.20   \n",
       "1                   Male             652                  $3.02   \n",
       "2  Other / Non-Disclosed              15                  $3.35   \n",
       "\n",
       "  Total Purchase Value Avg Total Purchase per Person  \n",
       "0              $361.94                         $4.47  \n",
       "1            $1,967.64                         $4.07  \n",
       "2               $50.19                         $4.56  "
      ]
     },
     "execution_count": 14,
     "metadata": {},
     "output_type": "execute_result"
    }
   ],
   "source": [
    "gen_purch_df"
   ]
  },
  {
   "cell_type": "code",
   "execution_count": 15,
   "metadata": {},
   "outputs": [
    {
     "name": "stderr",
     "output_type": "stream",
     "text": [
      "C:\\ProgramData\\Anaconda3\\envs\\PythonData\\lib\\site-packages\\ipykernel_launcher.py:3: SettingWithCopyWarning: \n",
      "A value is trying to be set on a copy of a slice from a DataFrame.\n",
      "Try using .loc[row_indexer,col_indexer] = value instead\n",
      "\n",
      "See the caveats in the documentation: http://pandas.pydata.org/pandas-docs/stable/indexing.html#indexing-view-versus-copy\n",
      "  This is separate from the ipykernel package so we can avoid doing imports until\n"
     ]
    }
   ],
   "source": [
    "bins = [0, 9, 14, 19, 24, 29, 34, 39,150]\n",
    "group_labels = [\"<10\", \"10-14\", \"15-19\", \"20-24\", \"25-29\", \"30-34\", \"35-39\", \"40+\"]\n",
    "gen_df['Age Group'] = pd.cut(gen_df['Age'], bins, labels=group_labels)\n",
    "purchase_data['Age Group'] = pd.cut(purchase_data['Age'], bins, labels=group_labels)\n",
    "ten_young = gen_df.loc[gen_df['Age Group']=='<10']\n",
    "ten_young = len(ten_young['Age'])\n",
    "\n",
    "ten_fourteen= gen_df.loc[gen_df['Age Group']=='10-14']\n",
    "ten_fourteen= len(ten_fourteen['Age'])\n",
    "\n",
    "fif_nineteen = gen_df.loc[gen_df['Age Group']=='15-19']\n",
    "fif_nineteen = len(fif_nineteen['Age'])\n",
    "\n",
    "twen_twfour =  gen_df.loc[gen_df['Age Group']=='20-24']\n",
    "twen_twfour = len(twen_twfour['Age'])\n",
    "\n",
    "twfive_twnine =  gen_df.loc[gen_df['Age Group']=='25-29']\n",
    "twfive_twnine = len(twfive_twnine['Age'])\n",
    "\n",
    "thirty_thfour =  gen_df.loc[gen_df['Age Group']=='30-34']\n",
    "thirty_thfour = len(thirty_thfour['Age'])\n",
    "\n",
    "thfive_thnine =  gen_df.loc[gen_df['Age Group']=='35-39']\n",
    "thfive_thnine = len(thfive_thnine['Age'])\n",
    "\n",
    "forty_over =  gen_df.loc[gen_df['Age Group']=='40+']\n",
    "forty_over = len(forty_over['Age'])\n",
    "\n",
    "num_players= [ten_young, ten_fourteen, fif_nineteen, twen_twfour, twfive_twnine,\\\n",
    "             thirty_thfour, thfive_thnine, forty_over]\n",
    "ten_young_per = (ten_young/num)*100\n",
    "ten_fourteen_per = (ten_fourteen/num)*100\n",
    "fif_nineteen_per = (fif_nineteen/num)*100\n",
    "twen_twfour_per = (twen_twfour/num)*100\n",
    "twfive_twnine_per = (twfive_twnine/num)*100\n",
    "thirty_thfour_per = (thirty_thfour/num)*100\n",
    "thfive_thnine_per = (thfive_thnine/num)*100\n",
    "forty_over_per = (forty_over/num)*100\n",
    "percentage_players= [ten_young_per, ten_fourteen_per, fif_nineteen_per, \\\n",
    "                    twen_twfour_per, twfive_twnine_per, thirty_thfour_per, \\\n",
    "                    thfive_thnine_per, forty_over_per]"
   ]
  },
  {
   "cell_type": "code",
   "execution_count": null,
   "metadata": {},
   "outputs": [],
   "source": []
  },
  {
   "cell_type": "code",
   "execution_count": 16,
   "metadata": {},
   "outputs": [],
   "source": [
    "age_dem_df = pd.DataFrame(\n",
    "    {\"Total Count\": num_players,\n",
    "     \"Percentage of Players\": percentage_players\n",
    "    \n",
    "})\n",
    "\n",
    "age_dem_df['Percentage of Players']=age_dem_df['Percentage of Players'].map(\"{:.2f}\".format)\n",
    "age_dem_df= age_dem_df.set_index([group_labels], drop=True)"
   ]
  },
  {
   "cell_type": "markdown",
   "metadata": {},
   "source": [
    "# Age Demographics"
   ]
  },
  {
   "cell_type": "code",
   "execution_count": 17,
   "metadata": {},
   "outputs": [
    {
     "data": {
      "text/html": [
       "<div>\n",
       "<style scoped>\n",
       "    .dataframe tbody tr th:only-of-type {\n",
       "        vertical-align: middle;\n",
       "    }\n",
       "\n",
       "    .dataframe tbody tr th {\n",
       "        vertical-align: top;\n",
       "    }\n",
       "\n",
       "    .dataframe thead th {\n",
       "        text-align: right;\n",
       "    }\n",
       "</style>\n",
       "<table border=\"1\" class=\"dataframe\">\n",
       "  <thead>\n",
       "    <tr style=\"text-align: right;\">\n",
       "      <th></th>\n",
       "      <th>Total Count</th>\n",
       "      <th>Percentage of Players</th>\n",
       "    </tr>\n",
       "  </thead>\n",
       "  <tbody>\n",
       "    <tr>\n",
       "      <th>&lt;10</th>\n",
       "      <td>17</td>\n",
       "      <td>2.95</td>\n",
       "    </tr>\n",
       "    <tr>\n",
       "      <th>10-14</th>\n",
       "      <td>22</td>\n",
       "      <td>3.82</td>\n",
       "    </tr>\n",
       "    <tr>\n",
       "      <th>15-19</th>\n",
       "      <td>107</td>\n",
       "      <td>18.58</td>\n",
       "    </tr>\n",
       "    <tr>\n",
       "      <th>20-24</th>\n",
       "      <td>258</td>\n",
       "      <td>44.79</td>\n",
       "    </tr>\n",
       "    <tr>\n",
       "      <th>25-29</th>\n",
       "      <td>77</td>\n",
       "      <td>13.37</td>\n",
       "    </tr>\n",
       "    <tr>\n",
       "      <th>30-34</th>\n",
       "      <td>52</td>\n",
       "      <td>9.03</td>\n",
       "    </tr>\n",
       "    <tr>\n",
       "      <th>35-39</th>\n",
       "      <td>31</td>\n",
       "      <td>5.38</td>\n",
       "    </tr>\n",
       "    <tr>\n",
       "      <th>40+</th>\n",
       "      <td>12</td>\n",
       "      <td>2.08</td>\n",
       "    </tr>\n",
       "  </tbody>\n",
       "</table>\n",
       "</div>"
      ],
      "text/plain": [
       "       Total Count Percentage of Players\n",
       "<10             17                  2.95\n",
       "10-14           22                  3.82\n",
       "15-19          107                 18.58\n",
       "20-24          258                 44.79\n",
       "25-29           77                 13.37\n",
       "30-34           52                  9.03\n",
       "35-39           31                  5.38\n",
       "40+             12                  2.08"
      ]
     },
     "execution_count": 17,
     "metadata": {},
     "output_type": "execute_result"
    }
   ],
   "source": [
    "age_dem_df"
   ]
  },
  {
   "cell_type": "code",
   "execution_count": 18,
   "metadata": {},
   "outputs": [],
   "source": [
    "young_df = purchase_data.loc[purchase_data['Age Group'] == '<10',:]\n",
    "ten_four_df = purchase_data.loc[purchase_data['Age Group'] == '10-14',:]\n",
    "fif_nin_df = purchase_data.loc[purchase_data['Age Group'] == '15-19',:]\n",
    "twen_twfour_df = purchase_data.loc[purchase_data['Age Group'] == '20-24',:]\n",
    "twfiv_twnin_df = purchase_data.loc[purchase_data['Age Group'] == '25-29',:]\n",
    "thir_thfour_df = purchase_data.loc[purchase_data['Age Group'] == '30-34',:]\n",
    "thfiv_thnin_df = purchase_data.loc[purchase_data['Age Group'] == '35-39',:]\n",
    "forty_over_df = purchase_data.loc[purchase_data['Age Group'] == '40+',:]\n"
   ]
  },
  {
   "cell_type": "code",
   "execution_count": 19,
   "metadata": {},
   "outputs": [],
   "source": [
    "grouped_young= young_df.groupby(['SN']).sum().mean()\n",
    "grouped_ten= ten_four_df.groupby(['SN']).sum().mean()\n",
    "grouped_fif= fif_nin_df.groupby(['SN']).sum().mean()\n",
    "grouped_twen=twen_twfour_df.groupby(['SN']).sum().mean()\n",
    "grouped_twfiv=twfiv_twnin_df.groupby(['SN']).sum().mean()\n",
    "grouped_thir=thir_thfour_df.groupby(['SN']).sum().mean()\n",
    "grouped_thfiv= thfiv_thnin_df.groupby(['SN']).sum().mean()\n",
    "grouped_fort= forty_over_df.groupby(['SN']).sum().mean()"
   ]
  },
  {
   "cell_type": "code",
   "execution_count": 20,
   "metadata": {},
   "outputs": [],
   "source": [
    "age_purch_df = pd.DataFrame(\n",
    "    {\"Purchase Count\": [len(ten_four_df['Purchase ID']), len(fif_nin_df['Purchase ID']), \\\n",
    "                        len(twen_twfour_df['Purchase ID']), len(twfiv_twnin_df['Purchase ID']), \\\n",
    "                        len(thir_thfour_df['Purchase ID']), len(thfiv_thnin_df['Purchase ID']), \\\n",
    "                        len(forty_over_df['Purchase ID']), len(young_df['Purchase ID'])],\n",
    "     \n",
    "     \"Average Purchase Price\": [ten_four_df['Price'].mean(), fif_nin_df['Price'].mean(), \\\n",
    "                               twen_twfour_df['Price'].mean(), twfiv_twnin_df['Price'].mean(), \\\n",
    "                                thir_thfour_df['Price'].mean(), thfiv_thnin_df['Price'].mean(), \\\n",
    "                                forty_over_df['Price'].mean(), young_df['Price'].mean()],\n",
    "     \n",
    "     \"Total Purchase Value\": [ten_four_df['Price'].sum(), fif_nin_df['Price'].sum(), \\\n",
    "                             twen_twfour_df['Price'].sum(), twfiv_twnin_df['Price'].sum(), \\\n",
    "                             thir_thfour_df['Price'].sum(), thfiv_thnin_df['Price'].sum(), \\\n",
    "                             forty_over_df['Price'].sum(), young_df['Price'].sum()],\n",
    "     \"Avg Total Purchase per Person\": [grouped_ten['Price'].mean(), grouped_fif['Price'].mean(), \\\n",
    "                                      grouped_twen['Price'].mean(), grouped_twfiv['Price'].mean(), \\\n",
    "                                      grouped_thir['Price'].mean(), grouped_thfiv['Price'].mean(), \\\n",
    "                                      grouped_fort['Price'].mean(), grouped_young['Price'].mean()]\n",
    "})\n",
    "age_purch_df = age_purch_df.set_index([group_labels], drop=True)\n",
    "age_purch_df['Average Purchase Price']=age_purch_df['Average Purchase Price'].map(\"${:.2f}\".format)\n",
    "age_purch_df['Total Purchase Value']=age_purch_df['Total Purchase Value'].map(\"${:,.2f}\".format)\n",
    "age_purch_df['Avg Total Purchase per Person']=age_purch_df['Avg Total Purchase per Person'].map(\"${:.2f}\".format)"
   ]
  },
  {
   "cell_type": "markdown",
   "metadata": {},
   "source": [
    "# Purchasing Analysis (Age)"
   ]
  },
  {
   "cell_type": "code",
   "execution_count": 21,
   "metadata": {},
   "outputs": [
    {
     "data": {
      "text/html": [
       "<div>\n",
       "<style scoped>\n",
       "    .dataframe tbody tr th:only-of-type {\n",
       "        vertical-align: middle;\n",
       "    }\n",
       "\n",
       "    .dataframe tbody tr th {\n",
       "        vertical-align: top;\n",
       "    }\n",
       "\n",
       "    .dataframe thead th {\n",
       "        text-align: right;\n",
       "    }\n",
       "</style>\n",
       "<table border=\"1\" class=\"dataframe\">\n",
       "  <thead>\n",
       "    <tr style=\"text-align: right;\">\n",
       "      <th></th>\n",
       "      <th>Purchase Count</th>\n",
       "      <th>Average Purchase Price</th>\n",
       "      <th>Total Purchase Value</th>\n",
       "      <th>Avg Total Purchase per Person</th>\n",
       "    </tr>\n",
       "  </thead>\n",
       "  <tbody>\n",
       "    <tr>\n",
       "      <th>&lt;10</th>\n",
       "      <td>28</td>\n",
       "      <td>$2.96</td>\n",
       "      <td>$82.78</td>\n",
       "      <td>$3.76</td>\n",
       "    </tr>\n",
       "    <tr>\n",
       "      <th>10-14</th>\n",
       "      <td>136</td>\n",
       "      <td>$3.04</td>\n",
       "      <td>$412.89</td>\n",
       "      <td>$3.86</td>\n",
       "    </tr>\n",
       "    <tr>\n",
       "      <th>15-19</th>\n",
       "      <td>365</td>\n",
       "      <td>$3.05</td>\n",
       "      <td>$1,114.06</td>\n",
       "      <td>$4.32</td>\n",
       "    </tr>\n",
       "    <tr>\n",
       "      <th>20-24</th>\n",
       "      <td>101</td>\n",
       "      <td>$2.90</td>\n",
       "      <td>$293.00</td>\n",
       "      <td>$3.81</td>\n",
       "    </tr>\n",
       "    <tr>\n",
       "      <th>25-29</th>\n",
       "      <td>73</td>\n",
       "      <td>$2.93</td>\n",
       "      <td>$214.00</td>\n",
       "      <td>$4.12</td>\n",
       "    </tr>\n",
       "    <tr>\n",
       "      <th>30-34</th>\n",
       "      <td>41</td>\n",
       "      <td>$3.60</td>\n",
       "      <td>$147.67</td>\n",
       "      <td>$4.76</td>\n",
       "    </tr>\n",
       "    <tr>\n",
       "      <th>35-39</th>\n",
       "      <td>13</td>\n",
       "      <td>$2.94</td>\n",
       "      <td>$38.24</td>\n",
       "      <td>$3.19</td>\n",
       "    </tr>\n",
       "    <tr>\n",
       "      <th>40+</th>\n",
       "      <td>23</td>\n",
       "      <td>$3.35</td>\n",
       "      <td>$77.13</td>\n",
       "      <td>$4.54</td>\n",
       "    </tr>\n",
       "  </tbody>\n",
       "</table>\n",
       "</div>"
      ],
      "text/plain": [
       "       Purchase Count Average Purchase Price Total Purchase Value  \\\n",
       "<10                28                  $2.96               $82.78   \n",
       "10-14             136                  $3.04              $412.89   \n",
       "15-19             365                  $3.05            $1,114.06   \n",
       "20-24             101                  $2.90              $293.00   \n",
       "25-29              73                  $2.93              $214.00   \n",
       "30-34              41                  $3.60              $147.67   \n",
       "35-39              13                  $2.94               $38.24   \n",
       "40+                23                  $3.35               $77.13   \n",
       "\n",
       "      Avg Total Purchase per Person  \n",
       "<10                           $3.76  \n",
       "10-14                         $3.86  \n",
       "15-19                         $4.32  \n",
       "20-24                         $3.81  \n",
       "25-29                         $4.12  \n",
       "30-34                         $4.76  \n",
       "35-39                         $3.19  \n",
       "40+                           $4.54  "
      ]
     },
     "execution_count": 21,
     "metadata": {},
     "output_type": "execute_result"
    }
   ],
   "source": [
    "age_purch_df"
   ]
  },
  {
   "cell_type": "code",
   "execution_count": 22,
   "metadata": {},
   "outputs": [
    {
     "data": {
      "text/html": [
       "<div>\n",
       "<style scoped>\n",
       "    .dataframe tbody tr th:only-of-type {\n",
       "        vertical-align: middle;\n",
       "    }\n",
       "\n",
       "    .dataframe tbody tr th {\n",
       "        vertical-align: top;\n",
       "    }\n",
       "\n",
       "    .dataframe thead th {\n",
       "        text-align: right;\n",
       "    }\n",
       "</style>\n",
       "<table border=\"1\" class=\"dataframe\">\n",
       "  <thead>\n",
       "    <tr style=\"text-align: right;\">\n",
       "      <th></th>\n",
       "      <th>Purchase ID</th>\n",
       "      <th>Age</th>\n",
       "      <th>Item ID</th>\n",
       "      <th>Price</th>\n",
       "    </tr>\n",
       "    <tr>\n",
       "      <th>SN</th>\n",
       "      <th></th>\n",
       "      <th></th>\n",
       "      <th></th>\n",
       "      <th></th>\n",
       "    </tr>\n",
       "  </thead>\n",
       "  <tbody>\n",
       "    <tr>\n",
       "      <th>Lisosia93</th>\n",
       "      <td>1630</td>\n",
       "      <td>125</td>\n",
       "      <td>451</td>\n",
       "      <td>18.96</td>\n",
       "    </tr>\n",
       "    <tr>\n",
       "      <th>Idastidru52</th>\n",
       "      <td>1999</td>\n",
       "      <td>96</td>\n",
       "      <td>527</td>\n",
       "      <td>15.45</td>\n",
       "    </tr>\n",
       "    <tr>\n",
       "      <th>Chamjask73</th>\n",
       "      <td>1306</td>\n",
       "      <td>66</td>\n",
       "      <td>339</td>\n",
       "      <td>13.83</td>\n",
       "    </tr>\n",
       "    <tr>\n",
       "      <th>Iral74</th>\n",
       "      <td>2285</td>\n",
       "      <td>84</td>\n",
       "      <td>518</td>\n",
       "      <td>13.62</td>\n",
       "    </tr>\n",
       "    <tr>\n",
       "      <th>Iskadarya95</th>\n",
       "      <td>713</td>\n",
       "      <td>60</td>\n",
       "      <td>321</td>\n",
       "      <td>13.10</td>\n",
       "    </tr>\n",
       "  </tbody>\n",
       "</table>\n",
       "</div>"
      ],
      "text/plain": [
       "             Purchase ID  Age  Item ID  Price\n",
       "SN                                           \n",
       "Lisosia93           1630  125      451  18.96\n",
       "Idastidru52         1999   96      527  15.45\n",
       "Chamjask73          1306   66      339  13.83\n",
       "Iral74              2285   84      518  13.62\n",
       "Iskadarya95          713   60      321  13.10"
      ]
     },
     "execution_count": 22,
     "metadata": {},
     "output_type": "execute_result"
    }
   ],
   "source": [
    "grouped_purchase_data = purchase_data.groupby('SN')\n",
    "mean_grouped= grouped_purchase_data.mean()\n",
    "sum_grouped = grouped_purchase_data.sum()\n",
    "sum_grouped = sum_grouped.sort_values('Price', ascending=False)\n",
    "sum_grouped = sum_grouped.head()\n",
    "sum_grouped"
   ]
  },
  {
   "cell_type": "code",
   "execution_count": 23,
   "metadata": {},
   "outputs": [],
   "source": [
    "# purchase_data = purchase_data.sort_values('Price', ascending=False)\n",
    "\n",
    "Lis = purchase_data.loc[purchase_data['SN'] == 'Lisosia93',:]\n",
    "Ida = purchase_data.loc[purchase_data['SN'] == 'Idastidru52',:]\n",
    "Cha = purchase_data.loc[purchase_data['SN'] == 'Chamjask73',:]\n",
    "Ira = purchase_data.loc[purchase_data['SN'] == 'Iral74',:]\n",
    "Isk = purchase_data.loc[purchase_data['SN'] == 'Iskadarya95',:]\n",
    "\n",
    "Lis_purch = len(Lis['SN'])\n",
    "Ida_purch = len(Ida['SN'])\n",
    "Cha_purch = len(Cha['SN'])\n",
    "Ira_purch = len(Ira['SN'])\n",
    "Isk_purch = len(Isk['SN'])\n",
    "purch_list = [Lis_purch, Ida_purch, Cha_purch, Ira_purch, Isk_purch]\n",
    "\n",
    "Lis_avg_purch = Lis['Price'].mean()\n",
    "Ida_avg_purch = Ida['Price'].mean()\n",
    "Cha_avg_purch = Cha['Price'].mean()\n",
    "Ira_avg_purch = Ira['Price'].mean()\n",
    "Isk_avg_purch = Isk['Price'].mean()\n",
    "avg_purch_list = [Lis_avg_purch, Ida_avg_purch, Cha_avg_purch, Ira_avg_purch, Isk_avg_purch]\n",
    "\n",
    "Lis_tot_purch = Lis['Price'].sum()\n",
    "Ida_tot_purch = Ida['Price'].sum()\n",
    "Cha_tot_purch = Cha['Price'].sum()\n",
    "Ira_tot_purch = Ira['Price'].sum()\n",
    "Isk_tot_purch = Isk['Price'].sum()\n",
    "tot_purch_list = [Lis_tot_purch, Ida_tot_purch, Cha_tot_purch, Ira_tot_purch, Isk_tot_purch]"
   ]
  },
  {
   "cell_type": "code",
   "execution_count": 24,
   "metadata": {
    "scrolled": true
   },
   "outputs": [],
   "source": [
    "top_spender_df = pd.DataFrame(\n",
    "    {\"Purchase Count\": purch_list, \n",
    "     \"Average Purchase Price\": avg_purch_list,\n",
    "     \"Total Purchase Value\": tot_purch_list\n",
    "        \n",
    "    })\n",
    "top_spenders = [\"Lisosia93\", \"Idastidru52\", \"Chamjask73\", \"Iral74\", \"Iskadarya95\"]\n",
    "top_spender_df = top_spender_df.set_index([top_spenders], drop=True)\n",
    "top_spender_df['Average Purchase Price']= top_spender_df['Average Purchase Price'].map(\"${:.2f}\".format)\n",
    "top_spender_df['Total Purchase Value']= top_spender_df['Total Purchase Value'].map(\"${:.2f}\".format)"
   ]
  },
  {
   "cell_type": "markdown",
   "metadata": {},
   "source": [
    "# Top Spenders"
   ]
  },
  {
   "cell_type": "code",
   "execution_count": 25,
   "metadata": {},
   "outputs": [
    {
     "data": {
      "text/html": [
       "<div>\n",
       "<style scoped>\n",
       "    .dataframe tbody tr th:only-of-type {\n",
       "        vertical-align: middle;\n",
       "    }\n",
       "\n",
       "    .dataframe tbody tr th {\n",
       "        vertical-align: top;\n",
       "    }\n",
       "\n",
       "    .dataframe thead th {\n",
       "        text-align: right;\n",
       "    }\n",
       "</style>\n",
       "<table border=\"1\" class=\"dataframe\">\n",
       "  <thead>\n",
       "    <tr style=\"text-align: right;\">\n",
       "      <th></th>\n",
       "      <th>Purchase Count</th>\n",
       "      <th>Average Purchase Price</th>\n",
       "      <th>Total Purchase Value</th>\n",
       "    </tr>\n",
       "  </thead>\n",
       "  <tbody>\n",
       "    <tr>\n",
       "      <th>Lisosia93</th>\n",
       "      <td>5</td>\n",
       "      <td>$3.79</td>\n",
       "      <td>$18.96</td>\n",
       "    </tr>\n",
       "    <tr>\n",
       "      <th>Idastidru52</th>\n",
       "      <td>4</td>\n",
       "      <td>$3.86</td>\n",
       "      <td>$15.45</td>\n",
       "    </tr>\n",
       "    <tr>\n",
       "      <th>Chamjask73</th>\n",
       "      <td>3</td>\n",
       "      <td>$4.61</td>\n",
       "      <td>$13.83</td>\n",
       "    </tr>\n",
       "    <tr>\n",
       "      <th>Iral74</th>\n",
       "      <td>4</td>\n",
       "      <td>$3.40</td>\n",
       "      <td>$13.62</td>\n",
       "    </tr>\n",
       "    <tr>\n",
       "      <th>Iskadarya95</th>\n",
       "      <td>3</td>\n",
       "      <td>$4.37</td>\n",
       "      <td>$13.10</td>\n",
       "    </tr>\n",
       "  </tbody>\n",
       "</table>\n",
       "</div>"
      ],
      "text/plain": [
       "             Purchase Count Average Purchase Price Total Purchase Value\n",
       "Lisosia93                 5                  $3.79               $18.96\n",
       "Idastidru52               4                  $3.86               $15.45\n",
       "Chamjask73                3                  $4.61               $13.83\n",
       "Iral74                    4                  $3.40               $13.62\n",
       "Iskadarya95               3                  $4.37               $13.10"
      ]
     },
     "execution_count": 25,
     "metadata": {},
     "output_type": "execute_result"
    }
   ],
   "source": [
    "top_spender_df"
   ]
  },
  {
   "cell_type": "code",
   "execution_count": 26,
   "metadata": {},
   "outputs": [
    {
     "name": "stdout",
     "output_type": "stream",
     "text": [
      "                                                      Price\n",
      "Item ID Item Name                                          \n",
      "178     Oathbreaker, Last Hope of the Breaking Storm     12\n",
      "145     Fiery Glass Crusader                              9\n",
      "108     Extraction, Quickblade Of Trembling Hands         9\n",
      "82      Nirvana                                           9\n",
      "19      Pursuit, Cudgel of Necromancy                     8\n"
     ]
    }
   ],
   "source": [
    "item_df = purchase_data[['Item ID', 'Item Name', 'Price']]\n",
    "\n",
    "grouped_item_df = item_df.groupby(['Item ID', 'Item Name'])\n",
    "\n",
    "pop_item_count = grouped_item_df.count().sort_values('Price', ascending = False).head()\n",
    "print(pop_item_count)\n",
    "pop_item_sum = grouped_item_df.sum()\n",
    "pop_df = pd.merge(pop_item_count, pop_item_sum, on='Item Name', how= 'inner')\n",
    "pop_price = item_df.drop_duplicates(subset = 'Item Name', keep= 'first')\n",
    "oath = purchase_data.loc[purchase_data['Item ID']==178, 'Price'].max()\n",
    "fier = purchase_data.loc[purchase_data['Item ID']==145, 'Price'].max()\n",
    "extr = purchase_data.loc[purchase_data['Item ID']==108,'Price'].max()\n",
    "nirv = purchase_data.loc[purchase_data['Item ID']==82, 'Price'].max()\n",
    "purs = purchase_data.loc[purchase_data['Item ID']==19, 'Price'].max()\n",
    "\n",
    "price_list= [oath, fier, extr, nirv, purs]"
   ]
  },
  {
   "cell_type": "code",
   "execution_count": 27,
   "metadata": {},
   "outputs": [],
   "source": [
    "pop_df['Item Price'] = price_list\n",
    "pop_df =pop_df.rename(columns = {'Price_x': 'Purchase Count', 'Price_y': 'Total Purchase Value'})\n",
    "pop_df['Total Purchase Value']= pop_df['Total Purchase Value'].map(\"${:.2f}\".format)\n",
    "pop_df['Item Price']= pop_df['Item Price'].map(\"${:.2f}\".format)\n",
    "columntit= ['Purchase Count', 'Item Price', 'Total Purchase Value']\n",
    "pop_df= pop_df.reindex(columns=columntit)"
   ]
  },
  {
   "cell_type": "markdown",
   "metadata": {},
   "source": [
    "# Most Popular Items"
   ]
  },
  {
   "cell_type": "code",
   "execution_count": 28,
   "metadata": {},
   "outputs": [
    {
     "data": {
      "text/html": [
       "<div>\n",
       "<style scoped>\n",
       "    .dataframe tbody tr th:only-of-type {\n",
       "        vertical-align: middle;\n",
       "    }\n",
       "\n",
       "    .dataframe tbody tr th {\n",
       "        vertical-align: top;\n",
       "    }\n",
       "\n",
       "    .dataframe thead th {\n",
       "        text-align: right;\n",
       "    }\n",
       "</style>\n",
       "<table border=\"1\" class=\"dataframe\">\n",
       "  <thead>\n",
       "    <tr style=\"text-align: right;\">\n",
       "      <th></th>\n",
       "      <th>Purchase Count</th>\n",
       "      <th>Item Price</th>\n",
       "      <th>Total Purchase Value</th>\n",
       "    </tr>\n",
       "    <tr>\n",
       "      <th>Item Name</th>\n",
       "      <th></th>\n",
       "      <th></th>\n",
       "      <th></th>\n",
       "    </tr>\n",
       "  </thead>\n",
       "  <tbody>\n",
       "    <tr>\n",
       "      <th>Oathbreaker, Last Hope of the Breaking Storm</th>\n",
       "      <td>12</td>\n",
       "      <td>$4.23</td>\n",
       "      <td>$50.76</td>\n",
       "    </tr>\n",
       "    <tr>\n",
       "      <th>Fiery Glass Crusader</th>\n",
       "      <td>9</td>\n",
       "      <td>$4.58</td>\n",
       "      <td>$41.22</td>\n",
       "    </tr>\n",
       "    <tr>\n",
       "      <th>Extraction, Quickblade Of Trembling Hands</th>\n",
       "      <td>9</td>\n",
       "      <td>$3.53</td>\n",
       "      <td>$31.77</td>\n",
       "    </tr>\n",
       "    <tr>\n",
       "      <th>Nirvana</th>\n",
       "      <td>9</td>\n",
       "      <td>$4.90</td>\n",
       "      <td>$44.10</td>\n",
       "    </tr>\n",
       "    <tr>\n",
       "      <th>Pursuit, Cudgel of Necromancy</th>\n",
       "      <td>8</td>\n",
       "      <td>$1.02</td>\n",
       "      <td>$8.16</td>\n",
       "    </tr>\n",
       "  </tbody>\n",
       "</table>\n",
       "</div>"
      ],
      "text/plain": [
       "                                              Purchase Count Item Price  \\\n",
       "Item Name                                                                 \n",
       "Oathbreaker, Last Hope of the Breaking Storm              12      $4.23   \n",
       "Fiery Glass Crusader                                       9      $4.58   \n",
       "Extraction, Quickblade Of Trembling Hands                  9      $3.53   \n",
       "Nirvana                                                    9      $4.90   \n",
       "Pursuit, Cudgel of Necromancy                              8      $1.02   \n",
       "\n",
       "                                             Total Purchase Value  \n",
       "Item Name                                                          \n",
       "Oathbreaker, Last Hope of the Breaking Storm               $50.76  \n",
       "Fiery Glass Crusader                                       $41.22  \n",
       "Extraction, Quickblade Of Trembling Hands                  $31.77  \n",
       "Nirvana                                                    $44.10  \n",
       "Pursuit, Cudgel of Necromancy                               $8.16  "
      ]
     },
     "execution_count": 28,
     "metadata": {},
     "output_type": "execute_result"
    }
   ],
   "source": [
    "pop_df"
   ]
  },
  {
   "cell_type": "code",
   "execution_count": 29,
   "metadata": {},
   "outputs": [],
   "source": [
    "prof_df= pop_item_sum.sort_values('Price', ascending=False)\n",
    "prof_df=prof_df.head()\n",
    "\n"
   ]
  },
  {
   "cell_type": "code",
   "execution_count": 30,
   "metadata": {},
   "outputs": [],
   "source": [
    "oath = purchase_data.loc[purchase_data['Item ID']==178, 'Price'].max()\n",
    "nirv = purchase_data.loc[purchase_data['Item ID']==82, 'Price'].max()\n",
    "fier = purchase_data.loc[purchase_data['Item ID']==145, 'Price'].max()\n",
    "fina = purchase_data.loc[purchase_data['Item ID']== 92, 'Price'].max()\n",
    "sing = purchase_data.loc[purchase_data['Item ID']==103, 'Price'].max()\n",
    "prof_price_list = [oath, nirv, fier, fina, sing]"
   ]
  },
  {
   "cell_type": "code",
   "execution_count": 31,
   "metadata": {},
   "outputs": [],
   "source": [
    "oath = purchase_data.loc[purchase_data['Item ID']==178, 'Price'].count()\n",
    "nirv = purchase_data.loc[purchase_data['Item ID']==82, 'Price'].count()\n",
    "fier = purchase_data.loc[purchase_data['Item ID']==145, 'Price'].count()\n",
    "fina = purchase_data.loc[purchase_data['Item ID']==92, 'SN'].count()\n",
    "sing = purchase_data.loc[purchase_data['Item ID']==103, 'Price'].count()\n",
    "prof_count_list = [oath, nirv, fier, fina, sing]"
   ]
  },
  {
   "cell_type": "code",
   "execution_count": 32,
   "metadata": {},
   "outputs": [],
   "source": [
    "prof_df['Purchase Count']= prof_count_list\n",
    "prof_df['Item Price']= prof_price_list"
   ]
  },
  {
   "cell_type": "code",
   "execution_count": 33,
   "metadata": {},
   "outputs": [],
   "source": [
    "prof_df = prof_df.rename(columns={'Price': 'Total Purchase Value'})\n",
    "prof_df['Total Purchase Value']=prof_df['Total Purchase Value'].map(\"${:.2f}\".format)\n",
    "prof_df['Item Price']=prof_df['Item Price'].map(\"${:.2f}\".format)\n",
    "columnstitles= ['Purchase Count', 'Item Price', 'Total Purchase Value']\n",
    "prof_df= prof_df.reindex(columns=columnstitles)"
   ]
  },
  {
   "cell_type": "markdown",
   "metadata": {},
   "source": [
    "# Most Profitable Items"
   ]
  },
  {
   "cell_type": "code",
   "execution_count": 34,
   "metadata": {},
   "outputs": [
    {
     "data": {
      "text/html": [
       "<div>\n",
       "<style scoped>\n",
       "    .dataframe tbody tr th:only-of-type {\n",
       "        vertical-align: middle;\n",
       "    }\n",
       "\n",
       "    .dataframe tbody tr th {\n",
       "        vertical-align: top;\n",
       "    }\n",
       "\n",
       "    .dataframe thead th {\n",
       "        text-align: right;\n",
       "    }\n",
       "</style>\n",
       "<table border=\"1\" class=\"dataframe\">\n",
       "  <thead>\n",
       "    <tr style=\"text-align: right;\">\n",
       "      <th></th>\n",
       "      <th></th>\n",
       "      <th>Purchase Count</th>\n",
       "      <th>Item Price</th>\n",
       "      <th>Total Purchase Value</th>\n",
       "    </tr>\n",
       "    <tr>\n",
       "      <th>Item ID</th>\n",
       "      <th>Item Name</th>\n",
       "      <th></th>\n",
       "      <th></th>\n",
       "      <th></th>\n",
       "    </tr>\n",
       "  </thead>\n",
       "  <tbody>\n",
       "    <tr>\n",
       "      <th>178</th>\n",
       "      <th>Oathbreaker, Last Hope of the Breaking Storm</th>\n",
       "      <td>12</td>\n",
       "      <td>$4.23</td>\n",
       "      <td>$50.76</td>\n",
       "    </tr>\n",
       "    <tr>\n",
       "      <th>82</th>\n",
       "      <th>Nirvana</th>\n",
       "      <td>9</td>\n",
       "      <td>$4.90</td>\n",
       "      <td>$44.10</td>\n",
       "    </tr>\n",
       "    <tr>\n",
       "      <th>145</th>\n",
       "      <th>Fiery Glass Crusader</th>\n",
       "      <td>9</td>\n",
       "      <td>$4.58</td>\n",
       "      <td>$41.22</td>\n",
       "    </tr>\n",
       "    <tr>\n",
       "      <th>92</th>\n",
       "      <th>Final Critic</th>\n",
       "      <td>8</td>\n",
       "      <td>$4.88</td>\n",
       "      <td>$39.04</td>\n",
       "    </tr>\n",
       "    <tr>\n",
       "      <th>103</th>\n",
       "      <th>Singed Scalpel</th>\n",
       "      <td>8</td>\n",
       "      <td>$4.35</td>\n",
       "      <td>$34.80</td>\n",
       "    </tr>\n",
       "  </tbody>\n",
       "</table>\n",
       "</div>"
      ],
      "text/plain": [
       "                                                      Purchase Count  \\\n",
       "Item ID Item Name                                                      \n",
       "178     Oathbreaker, Last Hope of the Breaking Storm              12   \n",
       "82      Nirvana                                                    9   \n",
       "145     Fiery Glass Crusader                                       9   \n",
       "92      Final Critic                                               8   \n",
       "103     Singed Scalpel                                             8   \n",
       "\n",
       "                                                     Item Price  \\\n",
       "Item ID Item Name                                                 \n",
       "178     Oathbreaker, Last Hope of the Breaking Storm      $4.23   \n",
       "82      Nirvana                                           $4.90   \n",
       "145     Fiery Glass Crusader                              $4.58   \n",
       "92      Final Critic                                      $4.88   \n",
       "103     Singed Scalpel                                    $4.35   \n",
       "\n",
       "                                                     Total Purchase Value  \n",
       "Item ID Item Name                                                          \n",
       "178     Oathbreaker, Last Hope of the Breaking Storm               $50.76  \n",
       "82      Nirvana                                                    $44.10  \n",
       "145     Fiery Glass Crusader                                       $41.22  \n",
       "92      Final Critic                                               $39.04  \n",
       "103     Singed Scalpel                                             $34.80  "
      ]
     },
     "execution_count": 34,
     "metadata": {},
     "output_type": "execute_result"
    }
   ],
   "source": [
    "prof_df"
   ]
  },
  {
   "cell_type": "markdown",
   "metadata": {},
   "source": [
    "# 3 Observable Trends"
   ]
  },
  {
   "cell_type": "markdown",
   "metadata": {},
   "source": [
    "1. The top spenders make at least 3 purchases."
   ]
  },
  {
   "attachments": {},
   "cell_type": "markdown",
   "metadata": {},
   "source": [
    "2. Players ages 15-19 had the highest total purchase value of 1,114.06 dollars and out spent the next closest age group (10-14) by 700 dollars.  "
   ]
  },
  {
   "cell_type": "markdown",
   "metadata": {},
   "source": [
    "3. The most popular and most profitable item was the Oathbreaker, Last Hope of the Breaking Storm. It was purchased 12 times and had a total purchase value of 50.76 dollars."
   ]
  },
  {
   "cell_type": "code",
   "execution_count": null,
   "metadata": {},
   "outputs": [],
   "source": []
  }
 ],
 "metadata": {
  "kernelspec": {
   "display_name": "Python 3",
   "language": "python",
   "name": "python3"
  },
  "language_info": {
   "codemirror_mode": {
    "name": "ipython",
    "version": 3
   },
   "file_extension": ".py",
   "mimetype": "text/x-python",
   "name": "python",
   "nbconvert_exporter": "python",
   "pygments_lexer": "ipython3",
   "version": "3.7.3"
  }
 },
 "nbformat": 4,
 "nbformat_minor": 2
}
